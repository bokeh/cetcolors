{
 "cells": [
  {
   "cell_type": "markdown",
   "metadata": {},
   "source": [
    "## Installation\n",
    "\n",
    "Colorcet supports Python 2.7, 3.5, 3.6 and 3.7 on Linux, Windows, or Mac\n",
    "and can be installed with conda:\n",
    "\n",
    "    conda install colorcet\n",
    "\n",
    "or with pip:\n",
    "\n",
    "    pip install colorcet"
   ]
  },
  {
   "cell_type": "markdown",
   "metadata": {},
   "source": [
    "## Usage\n",
    "\n",
    "Once you've installed colorcet the colormaps will be available\n",
    "in two formats:\n",
    "\n",
    "1.  A Bokeh-style palette, i.e., a Python list of RGB colors as hex\n",
    "    strings, like `\\['\\#000000', ..., '\\#ffffff'\\]`\n",
    "2.  A Matplotlib LinearSegmentedColormap using normalized magnitudes,\n",
    "    like `LinearSegmentedColormap.from\\_list(\"fire\",\\[ \\[0.0,0.0,0.0\\],\n",
    "    ..., \\[1.0,1.0,1.0\\] \\], 256)`\n",
    "\n",
    "Import colorcet and use the new colormaps anywhere you would use a\n",
    "regular colormap. For instance:"
   ]
  },
  {
   "cell_type": "code",
   "execution_count": null,
   "metadata": {},
   "outputs": [],
   "source": [
    "import numpy as np\n",
    "import matplotlib.pyplot as plt\n",
    "import colorcet as cc\n",
    "\n",
    "xs, _ = np.meshgrid(np.linspace(0, 1, 80), np.linspace(0, 1, 10))\n",
    "plt.imshow(xs, cmap=cc.cm.colorwheel);  # use tab completion to choose"
   ]
  },
  {
   "cell_type": "markdown",
   "metadata": {},
   "source": [
    "If you have any questions, please refer to the [User Guide](../user_guide/index.ipynb)\n",
    "and if that doesn't help, feel free to post an issue on GitHub, question on stackoverflow, \n",
    "or discuss on Gitter.\n",
    "\n",
    "## Developer Instructions\n",
    "\n",
    "1.  Install Python 3\n",
    "    [miniconda](https://docs.conda.io/en/latest/miniconda.html) or\n",
    "    [anaconda](https://www.anaconda.com/distribution/), if you don't\n",
    "    already have it on your system.\n",
    "\n",
    "2.  Clone the colorcet git repository if you do not already have it:\n",
    "    \n",
    "        git clone git://github.com/pyviz/colorcet.git\n",
    "\n",
    "\n",
    "3.  Set up a new conda environment with optional plotting tools:\n",
    "    \n",
    "        cd colorcet\n",
    "        conda env create -n colorcet matplotlib bokeh holoviews\n",
    "        conda activate colorcet\n",
    "\n",
    "\n",
    "4.  Put the <span class=\"title-ref\">colorcet</span> directory into the\n",
    "    Python path in this environment:\n",
    "    \n",
    "        pip install -e ."
   ]
  }
 ],
 "metadata": {
  "language_info": {
   "name": "python",
   "pygments_lexer": "ipython3"
  }
 },
 "nbformat": 4,
 "nbformat_minor": 2
}
