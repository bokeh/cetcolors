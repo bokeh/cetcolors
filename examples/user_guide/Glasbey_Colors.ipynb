{
 "cells": [
  {
   "cell_type": "markdown",
   "metadata": {},
   "source": [
    "## Colormaps for Categorical Data\n",
    "\n",
    "Colorcet originally included only continuous color spaces, but it was created while working on [Datashader](http://datashader.org), which uses both continuous and categorical sets of colors.  For rendering categorical data, Datashader requires having a distinct color per category, and it includes some ad-hoc collections of colors to try to get enough distinct colors to deal with complex datasets.  \n",
    "\n",
    "A principled approach for designing arbitrarily large sets of mutually distinct colors was presented in:\n",
    "\n",
    "> [Glasbey, Chris; van der Heijden, Gerie & Toh, Vivian F. K. et al. (2007)](https://strathprints.strath.ac.uk/30312/1/colorpaper_2006.pdf), \"Colour displays for categorical images\", Color Research & Application 32.4: 304-309.\n",
    "\n",
    "\"Glasbey\" colors are available in [ImageJ](http://imagej.net/Glasbey) and for [R](https://github.com/btupper/catecolors), and there is a [Python implementation](https://github.com/taketwo/glasbey) of the method.  Generating the colors with the Python code is time consuming, so we generated some large sets of Glasbey colors and distribute them in colorcet."
   ]
  },
  {
   "cell_type": "code",
   "execution_count": null,
   "metadata": {},
   "outputs": [],
   "source": [
    "import numpy as np\n",
    "import colorcet as cc\n",
    "import holoviews as hv\n",
    "\n",
    "hv.extension('bokeh')"
   ]
  },
  {
   "cell_type": "markdown",
   "metadata": {},
   "source": [
    "We'll use bokeh for displaying these colormaps so that you can zoom in for a closer look."
   ]
  },
  {
   "cell_type": "code",
   "execution_count": null,
   "metadata": {},
   "outputs": [],
   "source": [
    "xs, _ = np.meshgrid(np.linspace(0, 1, 256), np.linspace(0, 1, 10))\n",
    "\n",
    "def colormap(name, cmap=None, bounds=(0, 0, 256, 1), array=xs, **kwargs):\n",
    "    if cmap is None:\n",
    "        cmap = cc.palette[name]\n",
    "    options = hv.opts.Image(xaxis=None, yaxis=None, width=900, height=100, cmap=cmap, toolbar='above', **kwargs)\n",
    "    return hv.Image(array, bounds=bounds, group=name).opts(options)"
   ]
  },
  {
   "cell_type": "markdown",
   "metadata": {},
   "source": [
    "The code requires some starting set of colors, which by default is just white. Using the default, the second color is always very dark, which doesn't make for a very recognizable first color to choose for plotting. By adding both white and black as the starting colors, the initial colors in the subsequent sequence seem more useful, in that they are actually nameable colors. All glasbey cmaps included in colorcet are initialized with black and white. In addition - some also include the named categorical colormaps such as Category10 and Category20 used in [bokeh](https://bokeh.pydata.org/en/latest/docs/reference/palettes.html#bokeh.palettes.d3) and originally from [D3](https://github.com/d3/d3-3.x-api-reference/blob/master/Ordinal-Scales.md#categorical-colors). The naming of these colormaps follows a different pattern than that of continuous colormaps:\n",
    "       \n",
    "       glasbey_<starting_palette>[_no_black<if_no_black>]"
   ]
  },
  {
   "cell_type": "code",
   "execution_count": null,
   "metadata": {},
   "outputs": [],
   "source": [
    "hv.Layout([colormap(name) for name in sorted(list(cc.palette.keys())) if \"glasbey_\" in name]).cols(1)"
   ]
  },
  {
   "cell_type": "markdown",
   "metadata": {},
   "source": [
    "In addition to these long form names, colorcet provides several aliases to the most useful of the glasbey colormaps. These include - `glasbey`, `Category10`, and `Category20`. `Category10` and `Category20` can be used as replacements for the bokeh colormaps of the same name since they start with the same sequence."
   ]
  },
  {
   "cell_type": "code",
   "execution_count": null,
   "metadata": {},
   "outputs": [],
   "source": [
    "hv.Layout([\n",
    "    colormap('glasbey'), \n",
    "    colormap('Category10'), \n",
    "    colormap('Category20')\n",
    "]).cols(1)"
   ]
  },
  {
   "cell_type": "markdown",
   "metadata": {},
   "source": [
    "To check how these compare with the original sets in bokeh, we can render them side by side. Drag to the right or scroll out to see more of the glasbey versions."
   ]
  },
  {
   "cell_type": "code",
   "execution_count": null,
   "metadata": {},
   "outputs": [],
   "source": [
    "from bokeh.palettes import Category10_10, Category20_20\n",
    "\n",
    "hv.Layout([\n",
    "    colormap('Category10 - Bokeh', cmap=Category10_10, bounds=(0, 0, 10, 1)), \n",
    "    colormap('Category10')\n",
    "]).cols(1).redim.range(x=(0, 50))"
   ]
  },
  {
   "cell_type": "code",
   "execution_count": null,
   "metadata": {},
   "outputs": [],
   "source": [
    "hv.Layout([\n",
    "    colormap('Category20 - Bokeh', cmap=Category20_20, bounds=(0, 0, 20, 1)), \n",
    "    colormap('Category20')\n",
    "]).cols(1).redim.range(x=(0, 50))"
   ]
  }
 ],
 "metadata": {
  "language_info": {
   "name": "python",
   "pygments_lexer": "ipython3"
  }
 },
 "nbformat": 4,
 "nbformat_minor": 2
}
